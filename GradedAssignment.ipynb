{
    "cells": [
        {
            "metadata": {},
            "cell_type": "markdown",
            "source": "# My Jupyter Notebook on IBM Watson Studio\n"
        },
        {
            "metadata": {},
            "cell_type": "markdown",
            "source": "**Philippa Wright**\n\nData Scientist"
        },
        {
            "metadata": {},
            "cell_type": "markdown",
            "source": "*I am currently a data analyst and want to become a data scientist. I am fascianted by data and want to use it to fight misinformation online*"
        },
        {
            "metadata": {},
            "cell_type": "markdown",
            "source": "### this code will times together 2 and 3 to make 6, then add 8 to make 14\n"
        },
        {
            "metadata": {},
            "cell_type": "code",
            "source": "(2*3) +8\n",
            "execution_count": 3,
            "outputs": [
                {
                    "output_type": "execute_result",
                    "execution_count": 3,
                    "data": {
                        "text/plain": "14"
                    },
                    "metadata": {}
                }
            ]
        },
        {
            "metadata": {},
            "cell_type": "markdown",
            "source": "1. ordered list of data science libraries\n    1. scikit - learn\n    2. tensor flow\n    3. pytorch\n   \n    \n* This is a bullet list\n* This is a bullet list\n* This is a bullet list\n\n`code highlighting`\n"
        },
        {
            "metadata": {},
            "cell_type": "markdown",
            "source": "|ds tools|\n------------\n|apache spark|\n|matlab|\n|jupyter notebooks|\n"
        },
        {
            "metadata": {},
            "cell_type": "code",
            "source": "hours = 2.5\nminutes = hours * 60\nprint(f\"{hours} hours is equal to {minutes} minutes.\")",
            "execution_count": 6,
            "outputs": [
                {
                    "output_type": "stream",
                    "text": "2.5 hours is equal to 150.0 minutes.\n",
                    "name": "stdout"
                }
            ]
        },
        {
            "metadata": {},
            "cell_type": "markdown",
            "source": "Objectives\n* objective 1\n* objective 2\n* objective 3\n"
        },
        {
            "metadata": {},
            "cell_type": "code",
            "source": "",
            "execution_count": null,
            "outputs": []
        }
    ],
    "metadata": {
        "kernelspec": {
            "name": "python3",
            "display_name": "Python 3.10",
            "language": "python"
        },
        "language_info": {
            "name": "python",
            "version": "3.10.6",
            "mimetype": "text/x-python",
            "codemirror_mode": {
                "name": "ipython",
                "version": 3
            },
            "pygments_lexer": "ipython3",
            "nbconvert_exporter": "python",
            "file_extension": ".py"
        }
    },
    "nbformat": 4,
    "nbformat_minor": 1
}